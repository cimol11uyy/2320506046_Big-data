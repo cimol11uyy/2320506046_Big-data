{
  "nbformat": 4,
  "nbformat_minor": 0,
  "metadata": {
    "colab": {
      "provenance": []
    },
    "kernelspec": {
      "name": "python3",
      "display_name": "Python 3"
    },
    "language_info": {
      "name": "python"
    }
  },
  "cells": [
    {
      "cell_type": "code",
      "source": [
        "from google.colab import files\n",
        "import pandas as pd\n",
        "import numpy as np\n",
        "from sklearn.preprocessing import StandardScaler\n",
        "from sklearn.preprocessing import MinMaxScaler\n",
        "import matplotlib.pyplot as plt\n",
        "import seaborn as sns\n",
        "\n",
        "uploaded = files.upload()\n",
        "file_name = list(uploaded.keys())[0]\n",
        "data = pd.read_excel(file_name)\n",
        "\n",
        "df = pd.DataFrame(data)"
      ],
      "metadata": {
        "id": "DQoSf6qwPE8o",
        "colab": {
          "base_uri": "https://localhost:8080/",
          "height": 74
        },
        "outputId": "07656a56-f9d8-4f62-8342-3faad2920131"
      },
      "execution_count": null,
      "outputs": [
        {
          "output_type": "display_data",
          "data": {
            "text/plain": [
              "<IPython.core.display.HTML object>"
            ],
            "text/html": [
              "\n",
              "     <input type=\"file\" id=\"files-82c88eef-539e-41dd-b93d-1056b99ac4d3\" name=\"files[]\" multiple disabled\n",
              "        style=\"border:none\" />\n",
              "     <output id=\"result-82c88eef-539e-41dd-b93d-1056b99ac4d3\">\n",
              "      Upload widget is only available when the cell has been executed in the\n",
              "      current browser session. Please rerun this cell to enable.\n",
              "      </output>\n",
              "      <script>// Copyright 2017 Google LLC\n",
              "//\n",
              "// Licensed under the Apache License, Version 2.0 (the \"License\");\n",
              "// you may not use this file except in compliance with the License.\n",
              "// You may obtain a copy of the License at\n",
              "//\n",
              "//      http://www.apache.org/licenses/LICENSE-2.0\n",
              "//\n",
              "// Unless required by applicable law or agreed to in writing, software\n",
              "// distributed under the License is distributed on an \"AS IS\" BASIS,\n",
              "// WITHOUT WARRANTIES OR CONDITIONS OF ANY KIND, either express or implied.\n",
              "// See the License for the specific language governing permissions and\n",
              "// limitations under the License.\n",
              "\n",
              "/**\n",
              " * @fileoverview Helpers for google.colab Python module.\n",
              " */\n",
              "(function(scope) {\n",
              "function span(text, styleAttributes = {}) {\n",
              "  const element = document.createElement('span');\n",
              "  element.textContent = text;\n",
              "  for (const key of Object.keys(styleAttributes)) {\n",
              "    element.style[key] = styleAttributes[key];\n",
              "  }\n",
              "  return element;\n",
              "}\n",
              "\n",
              "// Max number of bytes which will be uploaded at a time.\n",
              "const MAX_PAYLOAD_SIZE = 100 * 1024;\n",
              "\n",
              "function _uploadFiles(inputId, outputId) {\n",
              "  const steps = uploadFilesStep(inputId, outputId);\n",
              "  const outputElement = document.getElementById(outputId);\n",
              "  // Cache steps on the outputElement to make it available for the next call\n",
              "  // to uploadFilesContinue from Python.\n",
              "  outputElement.steps = steps;\n",
              "\n",
              "  return _uploadFilesContinue(outputId);\n",
              "}\n",
              "\n",
              "// This is roughly an async generator (not supported in the browser yet),\n",
              "// where there are multiple asynchronous steps and the Python side is going\n",
              "// to poll for completion of each step.\n",
              "// This uses a Promise to block the python side on completion of each step,\n",
              "// then passes the result of the previous step as the input to the next step.\n",
              "function _uploadFilesContinue(outputId) {\n",
              "  const outputElement = document.getElementById(outputId);\n",
              "  const steps = outputElement.steps;\n",
              "\n",
              "  const next = steps.next(outputElement.lastPromiseValue);\n",
              "  return Promise.resolve(next.value.promise).then((value) => {\n",
              "    // Cache the last promise value to make it available to the next\n",
              "    // step of the generator.\n",
              "    outputElement.lastPromiseValue = value;\n",
              "    return next.value.response;\n",
              "  });\n",
              "}\n",
              "\n",
              "/**\n",
              " * Generator function which is called between each async step of the upload\n",
              " * process.\n",
              " * @param {string} inputId Element ID of the input file picker element.\n",
              " * @param {string} outputId Element ID of the output display.\n",
              " * @return {!Iterable<!Object>} Iterable of next steps.\n",
              " */\n",
              "function* uploadFilesStep(inputId, outputId) {\n",
              "  const inputElement = document.getElementById(inputId);\n",
              "  inputElement.disabled = false;\n",
              "\n",
              "  const outputElement = document.getElementById(outputId);\n",
              "  outputElement.innerHTML = '';\n",
              "\n",
              "  const pickedPromise = new Promise((resolve) => {\n",
              "    inputElement.addEventListener('change', (e) => {\n",
              "      resolve(e.target.files);\n",
              "    });\n",
              "  });\n",
              "\n",
              "  const cancel = document.createElement('button');\n",
              "  inputElement.parentElement.appendChild(cancel);\n",
              "  cancel.textContent = 'Cancel upload';\n",
              "  const cancelPromise = new Promise((resolve) => {\n",
              "    cancel.onclick = () => {\n",
              "      resolve(null);\n",
              "    };\n",
              "  });\n",
              "\n",
              "  // Wait for the user to pick the files.\n",
              "  const files = yield {\n",
              "    promise: Promise.race([pickedPromise, cancelPromise]),\n",
              "    response: {\n",
              "      action: 'starting',\n",
              "    }\n",
              "  };\n",
              "\n",
              "  cancel.remove();\n",
              "\n",
              "  // Disable the input element since further picks are not allowed.\n",
              "  inputElement.disabled = true;\n",
              "\n",
              "  if (!files) {\n",
              "    return {\n",
              "      response: {\n",
              "        action: 'complete',\n",
              "      }\n",
              "    };\n",
              "  }\n",
              "\n",
              "  for (const file of files) {\n",
              "    const li = document.createElement('li');\n",
              "    li.append(span(file.name, {fontWeight: 'bold'}));\n",
              "    li.append(span(\n",
              "        `(${file.type || 'n/a'}) - ${file.size} bytes, ` +\n",
              "        `last modified: ${\n",
              "            file.lastModifiedDate ? file.lastModifiedDate.toLocaleDateString() :\n",
              "                                    'n/a'} - `));\n",
              "    const percent = span('0% done');\n",
              "    li.appendChild(percent);\n",
              "\n",
              "    outputElement.appendChild(li);\n",
              "\n",
              "    const fileDataPromise = new Promise((resolve) => {\n",
              "      const reader = new FileReader();\n",
              "      reader.onload = (e) => {\n",
              "        resolve(e.target.result);\n",
              "      };\n",
              "      reader.readAsArrayBuffer(file);\n",
              "    });\n",
              "    // Wait for the data to be ready.\n",
              "    let fileData = yield {\n",
              "      promise: fileDataPromise,\n",
              "      response: {\n",
              "        action: 'continue',\n",
              "      }\n",
              "    };\n",
              "\n",
              "    // Use a chunked sending to avoid message size limits. See b/62115660.\n",
              "    let position = 0;\n",
              "    do {\n",
              "      const length = Math.min(fileData.byteLength - position, MAX_PAYLOAD_SIZE);\n",
              "      const chunk = new Uint8Array(fileData, position, length);\n",
              "      position += length;\n",
              "\n",
              "      const base64 = btoa(String.fromCharCode.apply(null, chunk));\n",
              "      yield {\n",
              "        response: {\n",
              "          action: 'append',\n",
              "          file: file.name,\n",
              "          data: base64,\n",
              "        },\n",
              "      };\n",
              "\n",
              "      let percentDone = fileData.byteLength === 0 ?\n",
              "          100 :\n",
              "          Math.round((position / fileData.byteLength) * 100);\n",
              "      percent.textContent = `${percentDone}% done`;\n",
              "\n",
              "    } while (position < fileData.byteLength);\n",
              "  }\n",
              "\n",
              "  // All done.\n",
              "  yield {\n",
              "    response: {\n",
              "      action: 'complete',\n",
              "    }\n",
              "  };\n",
              "}\n",
              "\n",
              "scope.google = scope.google || {};\n",
              "scope.google.colab = scope.google.colab || {};\n",
              "scope.google.colab._files = {\n",
              "  _uploadFiles,\n",
              "  _uploadFilesContinue,\n",
              "};\n",
              "})(self);\n",
              "</script> "
            ]
          },
          "metadata": {}
        },
        {
          "output_type": "stream",
          "name": "stdout",
          "text": [
            "Saving data_balita.xlsx to data_balita.xlsx\n"
          ]
        }
      ]
    },
    {
      "cell_type": "markdown",
      "source": [
        "# **1. memuat data, mengecek apakah ada data yang kosong, & menanganinya**"
      ],
      "metadata": {
        "id": "PVQW_kqHK2Po"
      }
    },
    {
      "cell_type": "code",
      "execution_count": null,
      "metadata": {
        "colab": {
          "base_uri": "https://localhost:8080/"
        },
        "id": "BxZIWbqVg-N3",
        "outputId": "51c35472-9ae3-4a48-cffa-4dd862a5c61a"
      },
      "outputs": [
        {
          "output_type": "stream",
          "name": "stdout",
          "text": [
            "Umur (bulan)         0\n",
            "Jenis Kelamin        0\n",
            "Tinggi Badan (cm)    0\n",
            "Status Gizi          1\n",
            "dtype: int64 \n",
            "\n",
            "    Umur (bulan) Jenis Kelamin  Tinggi Badan (cm) Status Gizi\n",
            "45             0     laki-laki       5.941116e+14         NaN \n",
            "\n",
            "Umur (bulan)         0\n",
            "Jenis Kelamin        0\n",
            "Tinggi Badan (cm)    0\n",
            "Status Gizi          0\n",
            "dtype: int64 \n",
            "\n",
            "   Umur (bulan) Jenis Kelamin  Tinggi Badan (cm)       Status Gizi\n",
            "0             0     laki-laki       4.459197e+14           stunted\n",
            "1             0     laki-laki       5.670520e+14            tinggi\n",
            "2             0     laki-laki       4.686336e+14            normal\n",
            "3             0     laki-laki       4.750803e+14            normal\n",
            "4             0     laki-laki       4.274349e+14  severely stunted\n"
          ]
        }
      ],
      "source": [
        "df = pd.read_excel('data_balita.xlsx')\n",
        "\n",
        "# mengecek apakah ada data yang kosong\n",
        "print(df.isnull().sum(),'\\n')\n",
        "\n",
        "print(df[df.isnull().any(axis=1)],'\\n')\n",
        "scaler = MinMaxScaler()\n",
        "\n",
        "# menampilkan nilai status gizi yang paling sering muncul\n",
        "most_frequent_status_gizi = df['Status Gizi'].mode()[0]\n",
        "df.fillna({'Status Gizi': most_frequent_status_gizi}, inplace=True)\n",
        "\n",
        "# melakukan pengecekan ulang\n",
        "print(df.isnull().sum(),'\\n')\n",
        "\n",
        "print(df.head())"
      ]
    },
    {
      "cell_type": "markdown",
      "source": [
        "# **2. memperbaiki kolom yang tidak realistis pada data**"
      ],
      "metadata": {
        "id": "geXpKPoSyUTY"
      }
    },
    {
      "cell_type": "code",
      "source": [
        "# nilai tinggi badan diatur antara 45 sampai 120, dan selain itu akan diberikan nilai NaN\n",
        "df['Tinggi Badan (cm)'] = df['Tinggi Badan (cm)'].apply(\n",
        "    lambda x: x if 45 <= x <= 120 else np.nan\n",
        ")\n",
        "\n",
        "print(df.isnull().sum(),'\\n')\n",
        "\n",
        "# mengubah tinggi badan dalam bentuk numerik\n",
        "df['Tinggi Badan (cm)'] = pd.to_numeric(df['Tinggi Badan (cm)'], errors='coerce')\n",
        "mean_tinggi_badan = df['Tinggi Badan (cm)'].mean()\n",
        "\n",
        "# mengisi kekosongan tinggi badan yang kosong\n",
        "df.fillna({'Tinggi Badan (cm)': mean_tinggi_badan}, inplace=True)\n",
        "print('\\n')\n",
        "\n",
        "print(df)"
      ],
      "metadata": {
        "colab": {
          "base_uri": "https://localhost:8080/"
        },
        "id": "PAzJW0X8LmGg",
        "outputId": "138315cb-7b04-48a8-f917-df2c7c4bcccb"
      },
      "execution_count": null,
      "outputs": [
        {
          "output_type": "stream",
          "name": "stdout",
          "text": [
            "Umur (bulan)            0\n",
            "Jenis Kelamin           0\n",
            "Tinggi Badan (cm)    8550\n",
            "Status Gizi             0\n",
            "dtype: int64 \n",
            "\n",
            "\n",
            "\n",
            "        Umur (bulan) Jenis Kelamin  Tinggi Badan (cm)       Status Gizi\n",
            "0                  0     laki-laki          89.649101           stunted\n",
            "1                  0     laki-laki          89.649101            tinggi\n",
            "2                  0     laki-laki          89.649101            normal\n",
            "3                  0     laki-laki          89.649101            normal\n",
            "4                  0     laki-laki          89.649101  severely stunted\n",
            "...              ...           ...                ...               ...\n",
            "120994            60     perempuan         100.600000            normal\n",
            "120995            60     perempuan          98.300000           stunted\n",
            "120996            60     perempuan          89.649101            normal\n",
            "120997            60     perempuan         112.200000            normal\n",
            "120998            60     perempuan         109.800000            normal\n",
            "\n",
            "[120999 rows x 4 columns]\n"
          ]
        }
      ]
    },
    {
      "cell_type": "markdown",
      "source": [
        "# **3. normalisasi**"
      ],
      "metadata": {
        "id": "FzzZHNd7K7LS"
      }
    },
    {
      "cell_type": "code",
      "source": [
        "df['Tinggi Badan (cm)'] = scaler.fit_transform(df[['Tinggi Badan (cm)']]).round(2)\n",
        "print(df)"
      ],
      "metadata": {
        "colab": {
          "base_uri": "https://localhost:8080/"
        },
        "id": "abREndkaTmjY",
        "outputId": "c02dfbe3-9069-4690-af4f-ad9a68334d9a"
      },
      "execution_count": null,
      "outputs": [
        {
          "output_type": "stream",
          "name": "stdout",
          "text": [
            "        Umur (bulan) Jenis Kelamin  Tinggi Badan (cm)       Status Gizi\n",
            "0                  0     laki-laki               0.58           stunted\n",
            "1                  0     laki-laki               0.58            tinggi\n",
            "2                  0     laki-laki               0.58            normal\n",
            "3                  0     laki-laki               0.58            normal\n",
            "4                  0     laki-laki               0.58  severely stunted\n",
            "...              ...           ...                ...               ...\n",
            "120994            60     perempuan               0.73            normal\n",
            "120995            60     perempuan               0.70           stunted\n",
            "120996            60     perempuan               0.58            normal\n",
            "120997            60     perempuan               0.89            normal\n",
            "120998            60     perempuan               0.86            normal\n",
            "\n",
            "[120999 rows x 4 columns]\n"
          ]
        }
      ]
    },
    {
      "cell_type": "markdown",
      "source": [
        "# **4. melatih model Logistic Regression**"
      ],
      "metadata": {
        "id": "bZ-DvoitaO88"
      }
    },
    {
      "cell_type": "code",
      "source": [
        "from pyspark.ml.classification import LogisticRegression\n",
        "from pyspark.sql import SparkSession\n",
        "from pyspark.ml.feature import VectorAssembler\n",
        "from pyspark.ml.feature import StringIndexer\n",
        "from pyspark.sql.types import IntegerType\n",
        "from pyspark.ml.evaluation import MulticlassClassificationEvaluator\n",
        "\n",
        "spark = SparkSession.builder.appName('MLlib Example').getOrCreate()\n",
        "\n",
        "df = spark.createDataFrame(df)\n",
        "\n",
        "# mengubah kolom kategori menjadi angka\n",
        "indexer = StringIndexer(inputCol=\"Status Gizi\", outputCol=\"StatusGiziIndex\")\n",
        "df = indexer.fit(df).transform(df)\n",
        "\n",
        "# mempersiapkan data untuk pemodelan\n",
        "assembler = VectorAssembler(inputCols=['Tinggi Badan (cm)'], outputCol='Features')\n",
        "df_transformed = assembler.transform(df)\n",
        "\n",
        "# membagi data menjadi set pelatihan dan pengujian\n",
        "train_df, test_df = df_transformed.randomSplit([0.8, 0.2], seed=42)\n",
        "\n",
        "# melatih model Logistic Regression\n",
        "lr = LogisticRegression(featuresCol='Features', labelCol='StatusGiziIndex')\n",
        "model = lr.fit(df_transformed)"
      ],
      "metadata": {
        "id": "meIJFASWnpTj"
      },
      "execution_count": null,
      "outputs": []
    },
    {
      "cell_type": "markdown",
      "source": [
        "# **5. hyperparameter tuning menggunakan cross-validation**"
      ],
      "metadata": {
        "id": "mE7GEeG1uOLo"
      }
    },
    {
      "cell_type": "code",
      "source": [
        "from pyspark.ml.tuning import CrossValidator, ParamGridBuilder\n",
        "\n",
        "# Membuat grid parameter untuk hyperparameter tuning\n",
        "paramGrid = ParamGridBuilder() \\\n",
        "    .addGrid(lr.regParam, [0.1, 0.01, 0.001]) \\\n",
        "    .addGrid(lr.elasticNetParam, [0.0, 0.5, 1.0]) \\\n",
        "    .build()\n",
        "\n",
        "evaluator = MulticlassClassificationEvaluator(labelCol='StatusGiziIndex', metricName='accuracy')\n",
        "\n",
        "# Membuat CrossValidator\n",
        "crossval = CrossValidator(estimator=lr, estimatorParamMaps=paramGrid, evaluator=evaluator, numFolds=5)\n",
        "\n",
        "# Melakukan cross-validation dan memilih model terbaik\n",
        "cvModel = crossval.fit(train_df)\n",
        "\n",
        "# Memprediksi dan mengevaluasi model terbaik\n",
        "predictions = cvModel.transform(test_df)\n",
        "accuracy = evaluator.evaluate(predictions)\n",
        "print(f'Akurasi: {accuracy}')\n",
        "\n",
        "# Menampilkan parameter terbaik\n",
        "bestModel = cvModel.bestModel\n",
        "print(f'Best regParam: {bestModel._java_obj.getRegParam()}')\n",
        "print(f'Best elasticNetParam: {bestModel._java_obj.getElasticNetParam()}')"
      ],
      "metadata": {
        "colab": {
          "base_uri": "https://localhost:8080/"
        },
        "id": "oizSAqcKms88",
        "outputId": "9d09fde6-83ac-4004-d8c6-8344f697d426"
      },
      "execution_count": null,
      "outputs": [
        {
          "output_type": "stream",
          "name": "stdout",
          "text": [
            "Akurasi: 0.5792426367461431\n",
            "Best regParam: 0.1\n",
            "Best elasticNetParam: 0.5\n"
          ]
        }
      ]
    },
    {
      "cell_type": "markdown",
      "source": [
        "# **6. mendapatkan label asli untuk representasi kelas**"
      ],
      "metadata": {
        "id": "ODKbHqaeXegC"
      }
    },
    {
      "cell_type": "code",
      "source": [
        "from pyspark.ml.feature import StringIndexer\n",
        "\n",
        "indexer = StringIndexer(inputCol=\"Status Gizi\", outputCol=\"Status_Gizi_Index\")\n",
        "indexer_model = indexer.fit(df)\n",
        "df = indexer_model.transform(df)\n",
        "\n",
        "# mendapatkan label asli\n",
        "status_gizi_labels = indexer_model.labels\n",
        "print(status_gizi_labels)"
      ],
      "metadata": {
        "colab": {
          "base_uri": "https://localhost:8080/"
        },
        "id": "X9821rRWWdu_",
        "outputId": "b04a838b-b86b-4e8b-e902-a52651ca9631"
      },
      "execution_count": null,
      "outputs": [
        {
          "output_type": "stream",
          "name": "stdout",
          "text": [
            "['normal', 'severely stunted', 'tinggi', 'stunted']\n"
          ]
        }
      ]
    },
    {
      "cell_type": "markdown",
      "source": [
        "# **7. mengukur kinerja dari model klasifikasi**"
      ],
      "metadata": {
        "id": "AT9Drj6LDPEk"
      }
    },
    {
      "cell_type": "code",
      "source": [
        "from sklearn.metrics import confusion_matrix\n",
        "import pandas as pd\n",
        "\n",
        "predictions_pd = predictions.select('StatusGiziIndex', 'prediction').toPandas()\n",
        "\n",
        "# Membuat confusion matrix\n",
        "cm = confusion_matrix(predictions_pd['StatusGiziIndex'], predictions_pd['prediction'], labels=range(len(status_gizi_labels)))\n",
        "\n",
        "TP = cm.diagonal()\n",
        "FP = cm.sum(axis=0) - TP\n",
        "FN = cm.sum(axis=1) - TP\n",
        "TN = cm.sum() - (TP + FP + FN)\n",
        "\n",
        "# Menampilkan hasil\n",
        "result = pd.DataFrame({\n",
        "    \"Class\": status_gizi_labels,\n",
        "    \"TP\": TP,\n",
        "    \"FP\": FP,\n",
        "    \"FN\": FN,\n",
        "    \"TN\": TN\n",
        "})\n",
        "print(result)\n",
        "# Visualisasi hasil TP, FP, FN, TN\n",
        "result = result.melt(id_vars=\"Class\", var_name=\"Metric\", value_name=\"Value\")\n",
        "plt.figure(figsize=(6, 4))\n",
        "sns.barplot(x=\"Class\", y=\"Value\", hue=\"Metric\", data=result, palette=\"Set2\")\n",
        "plt.xlabel('Class')\n",
        "plt.ylabel('Value')\n",
        "plt.title('TP, FP, FN, TN by Class')\n",
        "plt.show()"
      ],
      "metadata": {
        "colab": {
          "base_uri": "https://localhost:8080/",
          "height": 501
        },
        "id": "_TvhowpYFMsr",
        "outputId": "9c2558da-59fa-436e-84d3-e007792effed"
      },
      "execution_count": null,
      "outputs": [
        {
          "output_type": "stream",
          "name": "stdout",
          "text": [
            "              Class     TP     FP    FN     TN\n",
            "0            normal  13430  10011    90    711\n",
            "1  severely stunted    612    189  3433  20008\n",
            "2            tinggi      0      0  3926  20316\n",
            "3           stunted      0      0  2751  21491\n"
          ]
        },
        {
          "output_type": "display_data",
          "data": {
            "text/plain": [
              "<Figure size 600x400 with 1 Axes>"
            ],
            "image/png": "[encoded data removed]"
          },
          "metadata": {}
        }
      ]
    }
  ]
}